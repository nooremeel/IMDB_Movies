{
 "cells": [
  {
   "cell_type": "code",
   "execution_count": 33,
   "id": "82258cd7-fe53-46c2-bdc0-1e2572509aa2",
   "metadata": {},
   "outputs": [],
   "source": [
    "import pandas as pd\n",
    "import re"
   ]
  },
  {
   "cell_type": "code",
   "execution_count": 16,
   "id": "016ca87d-984f-4832-8cb3-8f8feb4a3f85",
   "metadata": {},
   "outputs": [],
   "source": [
    "#import csv\n",
    "movies=pd.read_csv('imdb_top_1000.csv')\n",
    "movies=pd.DataFrame(movies)"
   ]
  },
  {
   "cell_type": "code",
   "execution_count": 17,
   "id": "43f44c21-5256-4d4e-9792-73a08e424703",
   "metadata": {},
   "outputs": [
    {
     "name": "stdout",
     "output_type": "stream",
     "text": [
      "<class 'pandas.core.frame.DataFrame'>\n",
      "RangeIndex: 1000 entries, 0 to 999\n",
      "Data columns (total 16 columns):\n",
      " #   Column         Non-Null Count  Dtype  \n",
      "---  ------         --------------  -----  \n",
      " 0   Poster_Link    1000 non-null   object \n",
      " 1   Series_Title   1000 non-null   object \n",
      " 2   Released_Year  1000 non-null   object \n",
      " 3   Certificate    899 non-null    object \n",
      " 4   Runtime        1000 non-null   object \n",
      " 5   Genre          1000 non-null   object \n",
      " 6   IMDB_Rating    1000 non-null   float64\n",
      " 7   Overview       1000 non-null   object \n",
      " 8   Meta_score     843 non-null    float64\n",
      " 9   Director       1000 non-null   object \n",
      " 10  Star1          1000 non-null   object \n",
      " 11  Star2          1000 non-null   object \n",
      " 12  Star3          1000 non-null   object \n",
      " 13  Star4          1000 non-null   object \n",
      " 14  No_of_Votes    1000 non-null   int64  \n",
      " 15  Gross          831 non-null    object \n",
      "dtypes: float64(2), int64(1), object(13)\n",
      "memory usage: 125.1+ KB\n"
     ]
    }
   ],
   "source": [
    "#dataframe info\n",
    "movies.info()"
   ]
  },
  {
   "cell_type": "code",
   "execution_count": 18,
   "id": "0ce32cd8-0d7d-4ed9-b91a-c60ab5ca6798",
   "metadata": {},
   "outputs": [
    {
     "data": {
      "text/html": [
       "<div>\n",
       "<style scoped>\n",
       "    .dataframe tbody tr th:only-of-type {\n",
       "        vertical-align: middle;\n",
       "    }\n",
       "\n",
       "    .dataframe tbody tr th {\n",
       "        vertical-align: top;\n",
       "    }\n",
       "\n",
       "    .dataframe thead th {\n",
       "        text-align: right;\n",
       "    }\n",
       "</style>\n",
       "<table border=\"1\" class=\"dataframe\">\n",
       "  <thead>\n",
       "    <tr style=\"text-align: right;\">\n",
       "      <th></th>\n",
       "      <th>Poster_Link</th>\n",
       "      <th>Series_Title</th>\n",
       "      <th>Released_Year</th>\n",
       "      <th>Certificate</th>\n",
       "      <th>Runtime</th>\n",
       "      <th>Genre</th>\n",
       "      <th>IMDB_Rating</th>\n",
       "      <th>Overview</th>\n",
       "      <th>Meta_score</th>\n",
       "      <th>Director</th>\n",
       "      <th>Star1</th>\n",
       "      <th>Star2</th>\n",
       "      <th>Star3</th>\n",
       "      <th>Star4</th>\n",
       "      <th>No_of_Votes</th>\n",
       "      <th>Gross</th>\n",
       "    </tr>\n",
       "  </thead>\n",
       "  <tbody>\n",
       "    <tr>\n",
       "      <th>0</th>\n",
       "      <td>https://m.media-amazon.com/images/M/MV5BMDFkYT...</td>\n",
       "      <td>The Shawshank Redemption</td>\n",
       "      <td>1994</td>\n",
       "      <td>A</td>\n",
       "      <td>142 min</td>\n",
       "      <td>Drama</td>\n",
       "      <td>9.3</td>\n",
       "      <td>Two imprisoned men bond over a number of years...</td>\n",
       "      <td>80.0</td>\n",
       "      <td>Frank Darabont</td>\n",
       "      <td>Tim Robbins</td>\n",
       "      <td>Morgan Freeman</td>\n",
       "      <td>Bob Gunton</td>\n",
       "      <td>William Sadler</td>\n",
       "      <td>2343110</td>\n",
       "      <td>28,341,469</td>\n",
       "    </tr>\n",
       "    <tr>\n",
       "      <th>1</th>\n",
       "      <td>https://m.media-amazon.com/images/M/MV5BM2MyNj...</td>\n",
       "      <td>The Godfather</td>\n",
       "      <td>1972</td>\n",
       "      <td>A</td>\n",
       "      <td>175 min</td>\n",
       "      <td>Crime, Drama</td>\n",
       "      <td>9.2</td>\n",
       "      <td>An organized crime dynasty's aging patriarch t...</td>\n",
       "      <td>100.0</td>\n",
       "      <td>Francis Ford Coppola</td>\n",
       "      <td>Marlon Brando</td>\n",
       "      <td>Al Pacino</td>\n",
       "      <td>James Caan</td>\n",
       "      <td>Diane Keaton</td>\n",
       "      <td>1620367</td>\n",
       "      <td>134,966,411</td>\n",
       "    </tr>\n",
       "    <tr>\n",
       "      <th>2</th>\n",
       "      <td>https://m.media-amazon.com/images/M/MV5BMTMxNT...</td>\n",
       "      <td>The Dark Knight</td>\n",
       "      <td>2008</td>\n",
       "      <td>UA</td>\n",
       "      <td>152 min</td>\n",
       "      <td>Action, Crime, Drama</td>\n",
       "      <td>9.0</td>\n",
       "      <td>When the menace known as the Joker wreaks havo...</td>\n",
       "      <td>84.0</td>\n",
       "      <td>Christopher Nolan</td>\n",
       "      <td>Christian Bale</td>\n",
       "      <td>Heath Ledger</td>\n",
       "      <td>Aaron Eckhart</td>\n",
       "      <td>Michael Caine</td>\n",
       "      <td>2303232</td>\n",
       "      <td>534,858,444</td>\n",
       "    </tr>\n",
       "    <tr>\n",
       "      <th>3</th>\n",
       "      <td>https://m.media-amazon.com/images/M/MV5BMWMwMG...</td>\n",
       "      <td>The Godfather: Part II</td>\n",
       "      <td>1974</td>\n",
       "      <td>A</td>\n",
       "      <td>202 min</td>\n",
       "      <td>Crime, Drama</td>\n",
       "      <td>9.0</td>\n",
       "      <td>The early life and career of Vito Corleone in ...</td>\n",
       "      <td>90.0</td>\n",
       "      <td>Francis Ford Coppola</td>\n",
       "      <td>Al Pacino</td>\n",
       "      <td>Robert De Niro</td>\n",
       "      <td>Robert Duvall</td>\n",
       "      <td>Diane Keaton</td>\n",
       "      <td>1129952</td>\n",
       "      <td>57,300,000</td>\n",
       "    </tr>\n",
       "    <tr>\n",
       "      <th>4</th>\n",
       "      <td>https://m.media-amazon.com/images/M/MV5BMWU4N2...</td>\n",
       "      <td>12 Angry Men</td>\n",
       "      <td>1957</td>\n",
       "      <td>U</td>\n",
       "      <td>96 min</td>\n",
       "      <td>Crime, Drama</td>\n",
       "      <td>9.0</td>\n",
       "      <td>A jury holdout attempts to prevent a miscarria...</td>\n",
       "      <td>96.0</td>\n",
       "      <td>Sidney Lumet</td>\n",
       "      <td>Henry Fonda</td>\n",
       "      <td>Lee J. Cobb</td>\n",
       "      <td>Martin Balsam</td>\n",
       "      <td>John Fiedler</td>\n",
       "      <td>689845</td>\n",
       "      <td>4,360,000</td>\n",
       "    </tr>\n",
       "  </tbody>\n",
       "</table>\n",
       "</div>"
      ],
      "text/plain": [
       "                                         Poster_Link  \\\n",
       "0  https://m.media-amazon.com/images/M/MV5BMDFkYT...   \n",
       "1  https://m.media-amazon.com/images/M/MV5BM2MyNj...   \n",
       "2  https://m.media-amazon.com/images/M/MV5BMTMxNT...   \n",
       "3  https://m.media-amazon.com/images/M/MV5BMWMwMG...   \n",
       "4  https://m.media-amazon.com/images/M/MV5BMWU4N2...   \n",
       "\n",
       "               Series_Title Released_Year Certificate  Runtime  \\\n",
       "0  The Shawshank Redemption          1994           A  142 min   \n",
       "1             The Godfather          1972           A  175 min   \n",
       "2           The Dark Knight          2008          UA  152 min   \n",
       "3    The Godfather: Part II          1974           A  202 min   \n",
       "4              12 Angry Men          1957           U   96 min   \n",
       "\n",
       "                  Genre  IMDB_Rating  \\\n",
       "0                 Drama          9.3   \n",
       "1          Crime, Drama          9.2   \n",
       "2  Action, Crime, Drama          9.0   \n",
       "3          Crime, Drama          9.0   \n",
       "4          Crime, Drama          9.0   \n",
       "\n",
       "                                            Overview  Meta_score  \\\n",
       "0  Two imprisoned men bond over a number of years...        80.0   \n",
       "1  An organized crime dynasty's aging patriarch t...       100.0   \n",
       "2  When the menace known as the Joker wreaks havo...        84.0   \n",
       "3  The early life and career of Vito Corleone in ...        90.0   \n",
       "4  A jury holdout attempts to prevent a miscarria...        96.0   \n",
       "\n",
       "               Director           Star1           Star2          Star3  \\\n",
       "0        Frank Darabont     Tim Robbins  Morgan Freeman     Bob Gunton   \n",
       "1  Francis Ford Coppola   Marlon Brando       Al Pacino     James Caan   \n",
       "2     Christopher Nolan  Christian Bale    Heath Ledger  Aaron Eckhart   \n",
       "3  Francis Ford Coppola       Al Pacino  Robert De Niro  Robert Duvall   \n",
       "4          Sidney Lumet     Henry Fonda     Lee J. Cobb  Martin Balsam   \n",
       "\n",
       "            Star4  No_of_Votes        Gross  \n",
       "0  William Sadler      2343110   28,341,469  \n",
       "1    Diane Keaton      1620367  134,966,411  \n",
       "2   Michael Caine      2303232  534,858,444  \n",
       "3    Diane Keaton      1129952   57,300,000  \n",
       "4    John Fiedler       689845    4,360,000  "
      ]
     },
     "execution_count": 18,
     "metadata": {},
     "output_type": "execute_result"
    }
   ],
   "source": [
    "#dataframe first 5 rows\n",
    "movies.head()"
   ]
  },
  {
   "cell_type": "code",
   "execution_count": 19,
   "id": "ee0602dc-1d97-4561-bd6d-aaa663b5df67",
   "metadata": {},
   "outputs": [],
   "source": [
    "#remove commas from Gross\n",
    "movies['Gross']=movies['Gross'].str.replace(',', '')\n",
    "#change Gross to numeric\n",
    "movies['Gross']=pd.to_numeric(movies['Gross'])"
   ]
  },
  {
   "cell_type": "code",
   "execution_count": 20,
   "id": "6da48ae4-9732-4ee1-b9a9-7deb9bd36d04",
   "metadata": {},
   "outputs": [],
   "source": [
    "#remove 'min' from runtime\n",
    "movies['Runtime']=movies['Runtime'].str.replace('min', '')\n",
    "#change Runtime to numeric\n",
    "movies['Runtime']=pd.to_numeric(movies['Runtime'])\n",
    "#change column name for clarity\n",
    "movies.rename(columns={'Runtime': 'Runtime_min'}, inplace=True)"
   ]
  },
  {
   "cell_type": "code",
   "execution_count": 21,
   "id": "b88b1af5-660d-4db6-a88f-c65c360ffda4",
   "metadata": {},
   "outputs": [],
   "source": [
    "#remove the wrong value in Released_Year\n",
    "movies.loc[movies['Series_Title'] == 'Apollo 13', 'Released_Year'] = '1995'\n",
    "#change Released_Year to numeric\n",
    "movies['Released_Year']=pd.to_numeric(movies['Released_Year'])"
   ]
  },
  {
   "cell_type": "code",
   "execution_count": 22,
   "id": "a01e8694-61eb-4562-bf5f-02b4e79b6970",
   "metadata": {},
   "outputs": [
    {
     "data": {
      "text/plain": [
       "Index(['Certificate', 'Meta_score', 'Gross'], dtype='object')"
      ]
     },
     "execution_count": 22,
     "metadata": {},
     "output_type": "execute_result"
    }
   ],
   "source": [
    "# Check for columns with null values\n",
    "null_columns = movies.columns[movies.isnull().any()]\n",
    "null_columns"
   ]
  },
  {
   "cell_type": "code",
   "execution_count": 23,
   "id": "6c1844ee-4fc7-4bd5-b85e-3200f72bbea5",
   "metadata": {},
   "outputs": [],
   "source": [
    "# Replace null values in Certificates with unknown\n",
    "movies = movies.fillna({'Certificate': 'Unknown'})"
   ]
  },
  {
   "cell_type": "code",
   "execution_count": 24,
   "id": "8fe25229-8876-4164-b0fa-b8ce65804cf6",
   "metadata": {},
   "outputs": [],
   "source": [
    "# Replace null values in Meta_score with 0\n",
    "movies = movies.fillna({'Meta_score': 0})"
   ]
  },
  {
   "cell_type": "code",
   "execution_count": 25,
   "id": "01d0c5c1-77d1-41eb-945a-46cfbd668cc0",
   "metadata": {},
   "outputs": [],
   "source": [
    "# Replace null values in Gross with mean\n",
    "movies['Gross'] = movies['Gross'].fillna(movies['Gross'].mean())"
   ]
  },
  {
   "cell_type": "code",
   "execution_count": 35,
   "id": "0d82d62f-688e-4f02-acd5-59192d471ca0",
   "metadata": {},
   "outputs": [],
   "source": [
    "#Remove whitespaces from Genre\n",
    "def remove_whitespace(x):\n",
    "    if isinstance(x, str):\n",
    "        return re.sub(r'\\s+', '', x)\n",
    "    return x\n",
    "\n",
    "movies['Genre'] = movies['Genre'].apply(remove_whitespace)\n"
   ]
  },
  {
   "cell_type": "code",
   "execution_count": 27,
   "id": "0a2a535f-e29c-4746-84ae-053360c527a0",
   "metadata": {},
   "outputs": [],
   "source": [
    "#filter old movies\n",
    "old = movies[movies['Released_Year'] < 2000]\n",
    "old=pd.DataFrame(old)"
   ]
  },
  {
   "cell_type": "code",
   "execution_count": 28,
   "id": "1df7ce19-c6f2-43c0-a38e-631fa8cddb6c",
   "metadata": {},
   "outputs": [
    {
     "name": "stdout",
     "output_type": "stream",
     "text": [
      "<class 'pandas.core.frame.DataFrame'>\n",
      "Index: 515 entries, 0 to 999\n",
      "Data columns (total 16 columns):\n",
      " #   Column         Non-Null Count  Dtype  \n",
      "---  ------         --------------  -----  \n",
      " 0   Poster_Link    515 non-null    object \n",
      " 1   Series_Title   515 non-null    object \n",
      " 2   Released_Year  515 non-null    int64  \n",
      " 3   Certificate    515 non-null    object \n",
      " 4   Runtime_min    515 non-null    int64  \n",
      " 5   Genre          515 non-null    object \n",
      " 6   IMDB_Rating    515 non-null    float64\n",
      " 7   Overview       515 non-null    object \n",
      " 8   Meta_score     515 non-null    float64\n",
      " 9   Director       515 non-null    object \n",
      " 10  Star1          515 non-null    object \n",
      " 11  Star2          515 non-null    object \n",
      " 12  Star3          515 non-null    object \n",
      " 13  Star4          515 non-null    object \n",
      " 14  No_of_Votes    515 non-null    int64  \n",
      " 15  Gross          515 non-null    float64\n",
      "dtypes: float64(3), int64(3), object(10)\n",
      "memory usage: 68.4+ KB\n"
     ]
    }
   ],
   "source": [
    "old.info()"
   ]
  },
  {
   "cell_type": "code",
   "execution_count": 36,
   "id": "73ba35a5-1369-4f3a-9965-c2b87eda8d6c",
   "metadata": {},
   "outputs": [],
   "source": [
    "movies.to_csv('imdb_movies_clean.csv', index=False)"
   ]
  },
  {
   "cell_type": "code",
   "execution_count": null,
   "id": "fe38ac96-db16-4616-aee8-6733a3713bfd",
   "metadata": {},
   "outputs": [],
   "source": []
  }
 ],
 "metadata": {
  "kernelspec": {
   "display_name": "Python 3 (ipykernel)",
   "language": "python",
   "name": "python3"
  },
  "language_info": {
   "codemirror_mode": {
    "name": "ipython",
    "version": 3
   },
   "file_extension": ".py",
   "mimetype": "text/x-python",
   "name": "python",
   "nbconvert_exporter": "python",
   "pygments_lexer": "ipython3",
   "version": "3.11.0"
  }
 },
 "nbformat": 4,
 "nbformat_minor": 5
}
